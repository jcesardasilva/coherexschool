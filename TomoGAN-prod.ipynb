{
 "cells": [
  {
   "cell_type": "markdown",
   "metadata": {},
   "source": [
    "We will here go through an example of using a reserch-grade de-noising model. The model is TomoGAN (Liu, Z., Bicer, T., Kettimuthu, R., Gursoy, D., De Carlo, F. and Foster, I., 2020. TomoGAN: low-dose synchrotron x-ray tomography with generative adversarial networks: discussion. JOSA A, vol. 37(3), pp.422-434, and arXiv:1902.07582). Because training this model takes several hours on GPU clusters, we will not here train it but instead use a pre-trained model on realistic data sets.\n",
    "\n",
    "We start - as usual - by importing various python libraries."
   ]
  },
  {
   "cell_type": "code",
   "execution_count": null,
   "metadata": {},
   "outputs": [],
   "source": [
    "import tensorflow as tf \n",
    "import numpy as np \n",
    "from matplotlib import pyplot as plt\n",
    "import sys, time, imageio, h5py, skimage, glob, os, shutil"
   ]
  },
  {
   "cell_type": "code",
   "execution_count": null,
   "metadata": {},
   "outputs": [],
   "source": [
    "# overwrite anyway \n",
    "if os.path.isdir('dataset'): \n",
    "    shutil.rmtree('dataset')\n",
    "os.mkdir('dataset') # to save temp output\n",
    "\n",
    "!wget -O dataset/demo-dataset-real4test.h5 https://raw.githubusercontent.com/AIScienceTutorial/Denoising/main/dataset/demo-dataset-real4test.h5"
   ]
  },
  {
   "cell_type": "markdown",
   "metadata": {},
   "source": [
    "We will then load noisy images.  "
   ]
  },
  {
   "cell_type": "code",
   "execution_count": null,
   "metadata": {},
   "outputs": [],
   "source": [
    "with h5py.File('dataset/demo-dataset-real4test.h5', 'r') as h5fd:\n",
    "    ns_img_test_real = h5fd[\"test_ns\"][:]\n",
    "    gt_img_test_real = h5fd[\"test_gt\"][:]"
   ]
  },
  {
   "cell_type": "markdown",
   "metadata": {},
   "source": [
    "Next, we load the pre-trained model and print out a summary of the model characteristics."
   ]
  },
  {
   "cell_type": "code",
   "execution_count": null,
   "metadata": {},
   "outputs": [],
   "source": [
    "# overwrite anyway \n",
    "if os.path.isdir('model'): \n",
    "    shutil.rmtree('model')\n",
    "os.mkdir('model') # to save temp output\n",
    "\n",
    "!wget -O model/TomoGAN.h5 https://raw.githubusercontent.com/AIScienceTutorial/Denoising/main/model/TomoGAN.h5"
   ]
  },
  {
   "cell_type": "code",
   "execution_count": null,
   "metadata": {},
   "outputs": [],
   "source": [
    "TomoGAN_mdl = tf.keras.models.load_model('model/TomoGAN.h5', )\n",
    "TomoGAN_mdl.summary()"
   ]
  },
  {
   "cell_type": "markdown",
   "metadata": {},
   "source": [
    "We then apply TomoGAN to the noisy images and output the results."
   ]
  },
  {
   "cell_type": "code",
   "execution_count": null,
   "metadata": {},
   "outputs": [],
   "source": [
    "for _idx in range(ns_img_test_real.shape[0])[:2]:\n",
    "    # just one line of code to denoise, need to remember that the input is four dimension [n, h, w, c] \n",
    "    dn_img = TomoGAN_mdl.predict(ns_img_test_real[_idx:_idx+1,:,:,np.newaxis]).squeeze()\n",
    "    \n",
    "    plt.figure(figsize=(15, 5))\n",
    "    plt.subplot(131)\n",
    "    plt.imshow(ns_img_test_real[_idx, 200:-100, 200:-100], cmap='gray')\n",
    "    plt.title('Noisy/Input', fontsize=18)\n",
    "    plt.subplot(132)\n",
    "    plt.imshow(gt_img_test_real[_idx, 200:-100, 200:-100], cmap='gray')\n",
    "    plt.title('Clean/Label', fontsize=18)\n",
    "    plt.subplot(133)\n",
    "    plt.imshow(dn_img[200:-100, 200:-100], cmap='gray')\n",
    "    plt.title('Denoised/output', fontsize=18)\n",
    "    plt.tight_layout(); plt.show(); plt.close()"
   ]
  },
  {
   "cell_type": "markdown",
   "metadata": {},
   "source": [
    "The de-noising can be done in batches to accelerate the process."
   ]
  },
  {
   "cell_type": "code",
   "execution_count": null,
   "metadata": {},
   "outputs": [],
   "source": [
    "batch_sz = 4\n",
    "_idx = 0\n",
    "tick = time.time()\n",
    "dn_img = TomoGAN_mdl.predict(ns_img_test_real[_idx:_idx+batch_sz,:,:,np.newaxis]).squeeze()\n",
    "print('It takes %.1f seconds to denoise %d, %dx%d images,' % (time.time() - tick, batch_sz, \\\n",
    "                                                            ns_img_test_real.shape[1],\\\n",
    "                                                            ns_img_test_real.shape[2]))\n",
    "dn_img.shape"
   ]
  },
  {
   "cell_type": "code",
   "execution_count": null,
   "metadata": {},
   "outputs": [],
   "source": [
    "for _img_dn in dn_img:\n",
    "    plt.figure(figsize=(7, 7))\n",
    "    plt.imshow(_img_dn[200:-100, 200:-100], cmap='gray')\n",
    "    plt.title('Denoised/output', fontsize=18)\n",
    "    plt.show(); plt.close()"
   ]
  },
  {
   "cell_type": "code",
   "execution_count": null,
   "metadata": {},
   "outputs": [],
   "source": []
  }
 ],
 "metadata": {
  "kernelspec": {
   "display_name": "Python 3 (ipykernel)",
   "language": "python",
   "name": "python3"
  },
  "language_info": {
   "codemirror_mode": {
    "name": "ipython",
    "version": 3
   },
   "file_extension": ".py",
   "mimetype": "text/x-python",
   "name": "python",
   "nbconvert_exporter": "python",
   "pygments_lexer": "ipython3",
   "version": "3.11.5"
  }
 },
 "nbformat": 4,
 "nbformat_minor": 4
}
